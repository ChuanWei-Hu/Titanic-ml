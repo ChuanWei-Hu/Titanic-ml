{
  "nbformat": 4,
  "nbformat_minor": 0,
  "metadata": {
    "colab": {
      "name": "titanic-2nd.ipynb",
      "version": "0.3.2",
      "provenance": [],
      "collapsed_sections": [
        "E7_o91kYIDhn",
        "WZgziOdAH4PE",
        "CsPeF5PuHrl7"
      ],
      "include_colab_link": true
    },
    "kernelspec": {
      "name": "python3",
      "display_name": "Python 3"
    }
  },
  "cells": [
    {
      "cell_type": "markdown",
      "metadata": {
        "id": "view-in-github",
        "colab_type": "text"
      },
      "source": [
        "<a href=\"https://colab.research.google.com/github/webstrum/Titanic-ml/blob/master/titanic_2nd.ipynb\" target=\"_parent\"><img src=\"https://colab.research.google.com/assets/colab-badge.svg\" alt=\"Open In Colab\"/></a>"
      ]
    },
    {
      "cell_type": "code",
      "metadata": {
        "id": "8-mJ198AF_JP",
        "colab_type": "code",
        "colab": {}
      },
      "source": [
        "pip install xgboost"
      ],
      "execution_count": 0,
      "outputs": []
    },
    {
      "cell_type": "code",
      "metadata": {
        "id": "j5qUhRud5TRu",
        "colab_type": "code",
        "colab": {}
      },
      "source": [
        "# To support both python 2 and python 3\n",
        "from __future__ import division, print_function, unicode_literals\n",
        "\n",
        "# Common imports\n",
        "import numpy as np\n",
        "import pandas as pd\n",
        "import os\n",
        "\n",
        "# Plot figures\n",
        "%matplotlib inline\n",
        "import matplotlib as mpl\n",
        "import matplotlib.pyplot as plt\n",
        "\n",
        "# Control random number generator\n",
        "np.random.seed(42)\n",
        "\n",
        "# Ignore useless warnings\n",
        "import warnings\n",
        "warnings.filterwarnings('ignore')\n",
        "warnings.filterwarnings(\"ignore\", category=DeprecationWarning) "
      ],
      "execution_count": 0,
      "outputs": []
    },
    {
      "cell_type": "markdown",
      "metadata": {
        "id": "E7_o91kYIDhn",
        "colab_type": "text"
      },
      "source": [
        "## Get the Data"
      ]
    },
    {
      "cell_type": "code",
      "metadata": {
        "id": "iBDaQiK3_IQr",
        "colab_type": "code",
        "outputId": "da22d3a7-de31-47e7-fb6c-88f1e1b73b7a",
        "colab": {
          "base_uri": "https://localhost:8080/",
          "height": 34
        }
      },
      "source": [
        "# List files in input direction\n",
        "\n",
        "CURRENT_PATH = os.getcwd()\n",
        "os.listdir(CURRENT_PATH)"
      ],
      "execution_count": 0,
      "outputs": [
        {
          "output_type": "execute_result",
          "data": {
            "text/plain": [
              "['.config', 'sample_data']"
            ]
          },
          "metadata": {
            "tags": []
          },
          "execution_count": 3
        }
      ]
    },
    {
      "cell_type": "code",
      "metadata": {
        "id": "yqtU8-O0_pDM",
        "colab_type": "code",
        "outputId": "1fc37b14-d5dc-4d0d-df1f-c19ccaecfa6d",
        "colab": {
          "resources": {
            "http://localhost:8080/nbextensions/google.colab/files.js": {
              "data": "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",
              "ok": true,
              "headers": [
                [
                  "content-type",
                  "application/javascript"
                ]
              ],
              "status": 200,
              "status_text": ""
            }
          },
          "base_uri": "https://localhost:8080/",
          "height": 88
        }
      },
      "source": [
        "from google.colab import files\n",
        "\n",
        "uploaded = files.upload()\n",
        "\n",
        "for fn in uploaded.keys():\n",
        "  print('User uploaded file \"{name}\" with length {length} bytes'.format(\n",
        "      name=fn, length=len(uploaded[fn])))"
      ],
      "execution_count": 0,
      "outputs": [
        {
          "output_type": "display_data",
          "data": {
            "text/html": [
              "\n",
              "     <input type=\"file\" id=\"files-527d6cc4-c945-4c47-b418-31053b230567\" name=\"files[]\" multiple disabled />\n",
              "     <output id=\"result-527d6cc4-c945-4c47-b418-31053b230567\">\n",
              "      Upload widget is only available when the cell has been executed in the\n",
              "      current browser session. Please rerun this cell to enable.\n",
              "      </output>\n",
              "      <script src=\"/nbextensions/google.colab/files.js\"></script> "
            ],
            "text/plain": [
              "<IPython.core.display.HTML object>"
            ]
          },
          "metadata": {
            "tags": []
          }
        },
        {
          "output_type": "stream",
          "text": [
            "Saving test.csv to test.csv\n",
            "User uploaded file \"test.csv\" with length 28629 bytes\n"
          ],
          "name": "stdout"
        }
      ]
    },
    {
      "cell_type": "code",
      "metadata": {
        "id": "b4Am9cwczyJX",
        "colab_type": "code",
        "outputId": "9b42dba8-6fa1-42b2-e8e0-0ecf874425e0",
        "colab": {
          "base_uri": "https://localhost:8080/",
          "height": 34
        }
      },
      "source": [
        "os.listdir(CURRENT_PATH)"
      ],
      "execution_count": 0,
      "outputs": [
        {
          "output_type": "execute_result",
          "data": {
            "text/plain": [
              "['.config', 'train.csv', 'test.csv', 'sample_data']"
            ]
          },
          "metadata": {
            "tags": []
          },
          "execution_count": 6
        }
      ]
    },
    {
      "cell_type": "code",
      "metadata": {
        "id": "vDSq12kmBgFJ",
        "colab_type": "code",
        "colab": {}
      },
      "source": [
        "def load_titanic_data(file, data_path=CURRENT_PATH):\n",
        "    return pd.read_csv(os.path.join(data_path, file))\n",
        "\n",
        "load_train_df = load_titanic_data(\"train.csv\")\n",
        "load_test_df = load_titanic_data(\"test.csv\")\n",
        "copy_train_df = load_train_df.copy()\n",
        "copy_test_df = load_test_df.copy()"
      ],
      "execution_count": 0,
      "outputs": []
    },
    {
      "cell_type": "code",
      "metadata": {
        "id": "7TDsX-I0BqXg",
        "colab_type": "code",
        "colab": {}
      },
      "source": [
        "from sklearn.model_selection import StratifiedShuffleSplit\n",
        "\n",
        "split = StratifiedShuffleSplit(n_splits=1, test_size=0.2, \n",
        "                               random_state=42)\n",
        "\n",
        "for train_id, val_id in split.split(copy_train_df, copy_train_df[\"Pclass\"]):\n",
        "    strat_train_df = copy_train_df.loc[train_id]\n",
        "    strat_val_df = copy_train_df.loc[val_id]"
      ],
      "execution_count": 0,
      "outputs": []
    },
    {
      "cell_type": "markdown",
      "metadata": {
        "id": "WZgziOdAH4PE",
        "colab_type": "text"
      },
      "source": [
        "## Data Preparation"
      ]
    },
    {
      "cell_type": "code",
      "metadata": {
        "id": "X79HWfyRBxuP",
        "colab_type": "code",
        "colab": {}
      },
      "source": [
        "copy_strat_train = strat_train_df.copy()\n",
        "X_strat_train = copy_strat_train.drop(\"Survived\", axis=1)\n",
        "y_strat_train = copy_strat_train[\"Survived\"].copy()"
      ],
      "execution_count": 0,
      "outputs": []
    },
    {
      "cell_type": "code",
      "metadata": {
        "id": "DnJQhL4oCG7E",
        "colab_type": "code",
        "colab": {}
      },
      "source": [
        "all_attribs = list(X_strat_train)\n",
        "num_X_train = X_strat_train.select_dtypes(include=[np.number])\n",
        "num_X_attribs = list(num_X_train)\n",
        "cat_X_attribs = [attrib for attrib in all_attribs if (\n",
        "    attrib not in num_X_attribs)]"
      ],
      "execution_count": 0,
      "outputs": []
    },
    {
      "cell_type": "code",
      "metadata": {
        "id": "77wktlkiCIpj",
        "colab_type": "code",
        "colab": {}
      },
      "source": [
        "drop_columns = [\"PassengerId\", \"Cabin\", \"Ticket\"]\n",
        "X_strat_train.drop(drop_columns, axis=1, inplace=True)"
      ],
      "execution_count": 0,
      "outputs": []
    },
    {
      "cell_type": "code",
      "metadata": {
        "id": "CD9GFEfvCMwL",
        "colab_type": "code",
        "colab": {}
      },
      "source": [
        "all_attribs = list(X_strat_train)\n",
        "correct_num_train = X_strat_train.select_dtypes(include=[np.number])\n",
        "correct_num_attribs = list(correct_num_train)\n",
        "correct_cat_attribs = [attrib for attrib in all_attribs if (\n",
        "    attrib not in correct_num_attribs)]"
      ],
      "execution_count": 0,
      "outputs": []
    },
    {
      "cell_type": "code",
      "metadata": {
        "id": "bZreOgBMCOo3",
        "colab_type": "code",
        "colab": {}
      },
      "source": [
        "X_num_attribs = correct_num_attribs.copy()\n",
        "X_cat_attribs = correct_cat_attribs.copy()"
      ],
      "execution_count": 0,
      "outputs": []
    },
    {
      "cell_type": "code",
      "metadata": {
        "id": "ScNxvuyyCRdg",
        "colab_type": "code",
        "colab": {}
      },
      "source": [
        "from sklearn.impute import SimpleImputer\n",
        "\n",
        "correct_num_train = X_strat_train.loc[:, correct_num_attribs]\n",
        "num_imputer = SimpleImputer(strategy=\"median\")\n",
        "num_imputer.fit(correct_num_train)\n",
        "tr_num_train = num_imputer.transform(correct_num_train)\n",
        "df_num_train = pd.DataFrame(tr_num_train, columns=correct_num_train.columns, \n",
        "                     index=list(correct_num_train.index.values))"
      ],
      "execution_count": 0,
      "outputs": []
    },
    {
      "cell_type": "code",
      "metadata": {
        "id": "xhzEjdjXCXEr",
        "colab_type": "code",
        "colab": {}
      },
      "source": [
        "correct_cat_train = X_strat_train.loc[:, correct_cat_attribs]\n",
        "cat_imputer = SimpleImputer(strategy=\"constant\", \n",
        "                             fill_value=\"missing\")\n",
        "cat_imputer.fit(correct_cat_train)\n",
        "tr_cat_train = cat_imputer.transform(correct_cat_train)\n",
        "df_cat_train = pd.DataFrame(tr_cat_train, columns=correct_cat_train.columns,\n",
        "                     index=list(correct_cat_train.index.values))"
      ],
      "execution_count": 0,
      "outputs": []
    },
    {
      "cell_type": "code",
      "metadata": {
        "id": "TBr5wV5HCbCc",
        "colab_type": "code",
        "colab": {}
      },
      "source": [
        "X_strat_train.update(df_num_train)\n",
        "X_strat_train.update(df_cat_train)"
      ],
      "execution_count": 0,
      "outputs": []
    },
    {
      "cell_type": "code",
      "metadata": {
        "id": "m5eRq1FJCoz6",
        "colab_type": "code",
        "colab": {}
      },
      "source": [
        "from sklearn.preprocessing import FunctionTransformer\n",
        "\n",
        "# get the right column indices\n",
        "Age_ix, Pclass_ix, Name_ix = [\n",
        "    list(X_strat_train.columns).index(col)\n",
        "    for col in (\"Age\", \"Pclass\", \"Name\")]\n",
        "\n",
        "def add_num_attribs(X):\n",
        "    Age_Pclass = X[:, Age_ix] * X[:, Pclass_ix]\n",
        "    return np.c_[X, Age_Pclass]\n",
        "  \n",
        "add_num = FunctionTransformer(add_num_attribs, validate=False)\n",
        "add_num_train = add_num.fit_transform(X_strat_train.values)\n",
        "\n",
        "extra_num_train = pd.DataFrame(add_num_train, \n",
        "                                 columns=list(X_strat_train.columns)+\n",
        "                                ['Age_Pclass'])\n",
        "\n",
        "correct_num_attribs.append('Age_Pclass')"
      ],
      "execution_count": 0,
      "outputs": []
    },
    {
      "cell_type": "code",
      "metadata": {
        "id": "KGAFbyMmC_v5",
        "colab_type": "code",
        "colab": {}
      },
      "source": [
        "def add_cat_attribs(X):\n",
        "    series_name_value = pd.Series(X[:, Name_ix])\n",
        "    filter_series_name = series_name_value.str.extract(r' ([A-Za-z]+)\\.', \n",
        "                                              expand=False)\n",
        "    transform_titles = ['Mr', 'Miss', 'Mrs', 'Master']\n",
        "    transform_title_series = filter_series_name.apply(\n",
        "        lambda x: 'Rare' if x not in transform_titles else x)\n",
        "    Title = np.array(transform_title_series)\n",
        "    \n",
        "    return np.c_[X, Title]\n",
        "  \n",
        "add_cat = FunctionTransformer(add_cat_attribs, validate=False)\n",
        "add_cat_train = add_cat.fit_transform(X_strat_train.values)\n",
        "\n",
        "extra_cat_train = pd.DataFrame(add_cat_train, \n",
        "                               columns=list(X_strat_train.columns)+\n",
        "                                [\"Title\"])"
      ],
      "execution_count": 0,
      "outputs": []
    },
    {
      "cell_type": "code",
      "metadata": {
        "id": "olAu1VWWDjQY",
        "colab_type": "code",
        "colab": {}
      },
      "source": [
        "extra_cat_train.drop('Name', axis=1, inplace=True)\n",
        "correct_cat_attribs.remove(\"Name\")\n",
        "correct_cat_attribs.append('Title')"
      ],
      "execution_count": 0,
      "outputs": []
    },
    {
      "cell_type": "code",
      "metadata": {
        "id": "XdP5_e9uDmig",
        "colab_type": "code",
        "colab": {}
      },
      "source": [
        "from sklearn.preprocessing import OneHotEncoder\n",
        "\n",
        "cat_strat_train = extra_cat_train.loc[:, correct_cat_attribs]\n",
        "encoder_cat = OneHotEncoder(sparse=False)\n",
        "onehot_cat_train = encoder_cat.fit_transform(cat_strat_train)"
      ],
      "execution_count": 0,
      "outputs": []
    },
    {
      "cell_type": "code",
      "metadata": {
        "id": "sTPdPyfoDoY9",
        "colab_type": "code",
        "colab": {}
      },
      "source": [
        "from sklearn.preprocessing import StandardScaler\n",
        "\n",
        "num_strat_train = extra_num_train.loc[:, correct_num_attribs]\n",
        "scaler_num = StandardScaler()\n",
        "scaler_num_train = scaler_num.fit_transform(num_strat_train)"
      ],
      "execution_count": 0,
      "outputs": []
    },
    {
      "cell_type": "markdown",
      "metadata": {
        "id": "CsPeF5PuHrl7",
        "colab_type": "text"
      },
      "source": [
        "## preprocessing pipelines"
      ]
    },
    {
      "cell_type": "code",
      "metadata": {
        "id": "Jwd6QvecDrbt",
        "colab_type": "code",
        "outputId": "9af2aff5-1b33-4534-d41b-b7f941a6446b",
        "colab": {
          "base_uri": "https://localhost:8080/"
        }
      },
      "source": [
        "X_num_attribs"
      ],
      "execution_count": 0,
      "outputs": [
        {
          "output_type": "execute_result",
          "data": {
            "text/plain": [
              "['Pclass', 'Age', 'SibSp', 'Parch', 'Fare']"
            ]
          },
          "metadata": {
            "tags": []
          },
          "execution_count": 22
        }
      ]
    },
    {
      "cell_type": "code",
      "metadata": {
        "id": "mmni1dkZDtgD",
        "colab_type": "code",
        "outputId": "14ffdbd9-f833-46b3-8597-7d106ad6c15c",
        "colab": {
          "base_uri": "https://localhost:8080/"
        }
      },
      "source": [
        "X_cat_attribs"
      ],
      "execution_count": 0,
      "outputs": [
        {
          "output_type": "execute_result",
          "data": {
            "text/plain": [
              "['Name', 'Sex', 'Embarked']"
            ]
          },
          "metadata": {
            "tags": []
          },
          "execution_count": 23
        }
      ]
    },
    {
      "cell_type": "code",
      "metadata": {
        "id": "Hc1BiF5pDv8K",
        "colab_type": "code",
        "colab": {}
      },
      "source": [
        "from sklearn.pipeline import Pipeline\n",
        "from sklearn.compose import ColumnTransformer\n",
        "\n",
        "# We create the preprocessing pipelines.\n",
        "\n",
        "num_pipeline = Pipeline(steps=[\n",
        "    ('imputer', SimpleImputer(strategy='median')),\n",
        "    ('add_num_features', FunctionTransformer(add_num_attribs, \n",
        "                                          validate=False)),\n",
        "    ('scaler', StandardScaler()),\n",
        "    ])\n",
        "\n",
        "cat_pipeline = Pipeline(steps=[\n",
        "    ('imputer', SimpleImputer(strategy='constant', \n",
        "                              fill_value='missing')),\n",
        "    ('add_cat_features', FunctionTransformer(add_cat_attribs, \n",
        "                                          validate=False)),\n",
        "    ('onehot', OneHotEncoder(sparse=False, handle_unknown='ignore')),\n",
        "    ])\n",
        "\n",
        "pre_pipeline = ColumnTransformer(\n",
        "    transformers=[\n",
        "        ('num', num_pipeline, X_num_attribs),\n",
        "        ('cat', cat_pipeline, X_cat_attribs),\n",
        "    ])"
      ],
      "execution_count": 0,
      "outputs": []
    },
    {
      "cell_type": "code",
      "metadata": {
        "id": "H-O08bTuDylI",
        "colab_type": "code",
        "outputId": "68509408-0a31-4e2e-f22b-dd706fe82e53",
        "colab": {
          "base_uri": "https://localhost:8080/"
        }
      },
      "source": [
        "copy_strat_train = strat_train_df.copy()\n",
        "X_strat_train = copy_strat_train.drop(\"Survived\", axis=1)\n",
        "y_strat_train = copy_strat_train[\"Survived\"].copy()\n",
        "\n",
        "X_train_prepared = pre_pipeline.fit_transform(X_strat_train)\n",
        "y_strat_train.shape"
      ],
      "execution_count": 0,
      "outputs": [
        {
          "output_type": "execute_result",
          "data": {
            "text/plain": [
              "(712,)"
            ]
          },
          "metadata": {
            "tags": []
          },
          "execution_count": 25
        }
      ]
    },
    {
      "cell_type": "code",
      "metadata": {
        "id": "M1xCtY53JZLg",
        "colab_type": "code",
        "outputId": "8c7e46e1-e960-4a9e-8290-3a20829ac080",
        "colab": {
          "base_uri": "https://localhost:8080/"
        }
      },
      "source": [
        "copy_strat_val = strat_val_df.copy()\n",
        "X_strat_val = copy_strat_val.drop(\"Survived\", axis=1)\n",
        "y_strat_val = copy_strat_val[\"Survived\"].copy()\n",
        "\n",
        "X_val_prepared = pre_pipeline.fit_transform(X_strat_val)\n",
        "y_strat_val.shape"
      ],
      "execution_count": 0,
      "outputs": [
        {
          "output_type": "execute_result",
          "data": {
            "text/plain": [
              "(179,)"
            ]
          },
          "metadata": {
            "tags": []
          },
          "execution_count": 26
        }
      ]
    },
    {
      "cell_type": "markdown",
      "metadata": {
        "id": "SZhZ3sJtHf-f",
        "colab_type": "text"
      },
      "source": [
        "## Select and Train a Model"
      ]
    },
    {
      "cell_type": "code",
      "metadata": {
        "id": "trksvC67FH_T",
        "colab_type": "code",
        "outputId": "478ab3a2-c752-447a-d689-d5f3cc5bbf4e",
        "colab": {
          "base_uri": "https://localhost:8080/",
          "height": 354
        }
      },
      "source": [
        "# machine learning\n",
        "from sklearn.ensemble import RandomForestClassifier\n",
        "from sklearn.svm import SVC\n",
        "from sklearn.neighbors import KNeighborsClassifier\n",
        "from sklearn.tree import DecisionTreeClassifier\n",
        "from sklearn.linear_model import SGDClassifier\n",
        "from xgboost.sklearn import XGBClassifier  \n",
        "\n",
        "# cross validation\n",
        "from sklearn.model_selection import cross_val_score\n",
        "\n",
        "# create table to compare MLA predictions\n",
        "\n",
        "MLA = [RandomForestClassifier(random_state=42),\n",
        "       SVC(random_state=42),\n",
        "       KNeighborsClassifier(),\n",
        "       DecisionTreeClassifier(random_state=42),\n",
        "       SGDClassifier(random_state=42),\n",
        "       XGBClassifier(random_state=42),\n",
        "    ]\n",
        "\n",
        "MLA_columns = ['MLA Name', 'MLA Parameters', \"MLA Train Accuracy\"]\n",
        "MLA_compare = pd.DataFrame(columns=MLA_columns)\n",
        "MLA_predict = copy_strat_train[\"Survived\"]\n",
        "\n",
        "row_index = 0\n",
        "\n",
        "for alg in MLA:\n",
        "    \n",
        "    MLA_name = alg.__class__.__name__\n",
        "    MLA_compare.loc[row_index, \"MLA Name\"] = MLA_name\n",
        "    MLA_compare.loc[row_index, \"MLA Parameters\"] = str(alg.get_params())\n",
        "\n",
        "    # train\n",
        "    train_scores = cross_val_score(alg, X_train_prepared, y_strat_train, \n",
        "                             scoring=\"accuracy\", cv=10) \n",
        "    train_score_mean = round(train_scores.mean()*100, 2)\n",
        "    MLA_compare.loc[row_index, \"MLA Train Accuracy\"] = train_score_mean\n",
        "    \n",
        "    \n",
        "    # save MLA predictions\n",
        "    alg.fit(X_train_prepared, y_strat_train)\n",
        "    MLA_predict[MLA_name] = alg.predict(X_train_prepared)\n",
        "    \n",
        "    row_index += 1\n",
        "\n",
        "MLA_compare.sort_values(by = ['MLA Train Accuracy'], ascending=False, inplace=True)\n",
        "MLA_compare"
      ],
      "execution_count": 0,
      "outputs": [
        {
          "output_type": "execute_result",
          "data": {
            "text/html": [
              "<div>\n",
              "<style scoped>\n",
              "    .dataframe tbody tr th:only-of-type {\n",
              "        vertical-align: middle;\n",
              "    }\n",
              "\n",
              "    .dataframe tbody tr th {\n",
              "        vertical-align: top;\n",
              "    }\n",
              "\n",
              "    .dataframe thead th {\n",
              "        text-align: right;\n",
              "    }\n",
              "</style>\n",
              "<table border=\"1\" class=\"dataframe\">\n",
              "  <thead>\n",
              "    <tr style=\"text-align: right;\">\n",
              "      <th></th>\n",
              "      <th>MLA Name</th>\n",
              "      <th>MLA Parameters</th>\n",
              "      <th>MLA Train Accuracy</th>\n",
              "    </tr>\n",
              "  </thead>\n",
              "  <tbody>\n",
              "    <tr>\n",
              "      <th>3</th>\n",
              "      <td>DecisionTreeClassifier</td>\n",
              "      <td>{'class_weight': None, 'criterion': 'gini', 'm...</td>\n",
              "      <td>83.15</td>\n",
              "    </tr>\n",
              "    <tr>\n",
              "      <th>0</th>\n",
              "      <td>RandomForestClassifier</td>\n",
              "      <td>{'bootstrap': True, 'class_weight': None, 'cri...</td>\n",
              "      <td>82.73</td>\n",
              "    </tr>\n",
              "    <tr>\n",
              "      <th>5</th>\n",
              "      <td>XGBClassifier</td>\n",
              "      <td>{'base_score': 0.5, 'booster': 'gbtree', 'cols...</td>\n",
              "      <td>82.03</td>\n",
              "    </tr>\n",
              "    <tr>\n",
              "      <th>2</th>\n",
              "      <td>KNeighborsClassifier</td>\n",
              "      <td>{'algorithm': 'auto', 'leaf_size': 30, 'metric...</td>\n",
              "      <td>80.76</td>\n",
              "    </tr>\n",
              "    <tr>\n",
              "      <th>4</th>\n",
              "      <td>SGDClassifier</td>\n",
              "      <td>{'alpha': 0.0001, 'average': False, 'class_wei...</td>\n",
              "      <td>78.81</td>\n",
              "    </tr>\n",
              "    <tr>\n",
              "      <th>1</th>\n",
              "      <td>SVC</td>\n",
              "      <td>{'C': 1.0, 'cache_size': 200, 'class_weight': ...</td>\n",
              "      <td>71.63</td>\n",
              "    </tr>\n",
              "  </tbody>\n",
              "</table>\n",
              "</div>"
            ],
            "text/plain": [
              "                 MLA Name                                     MLA Parameters  \\\n",
              "3  DecisionTreeClassifier  {'class_weight': None, 'criterion': 'gini', 'm...   \n",
              "0  RandomForestClassifier  {'bootstrap': True, 'class_weight': None, 'cri...   \n",
              "5           XGBClassifier  {'base_score': 0.5, 'booster': 'gbtree', 'cols...   \n",
              "2    KNeighborsClassifier  {'algorithm': 'auto', 'leaf_size': 30, 'metric...   \n",
              "4           SGDClassifier  {'alpha': 0.0001, 'average': False, 'class_wei...   \n",
              "1                     SVC  {'C': 1.0, 'cache_size': 200, 'class_weight': ...   \n",
              "\n",
              "  MLA Train Accuracy  \n",
              "3              83.15  \n",
              "0              82.73  \n",
              "5              82.03  \n",
              "2              80.76  \n",
              "4              78.81  \n",
              "1              71.63  "
            ]
          },
          "metadata": {
            "tags": []
          },
          "execution_count": 27
        }
      ]
    },
    {
      "cell_type": "markdown",
      "metadata": {
        "id": "uodVhKciHKTm",
        "colab_type": "text"
      },
      "source": [
        "## Fine-Tune the system"
      ]
    },
    {
      "cell_type": "code",
      "metadata": {
        "id": "nRZb3WTMHCuD",
        "colab_type": "code",
        "outputId": "bd619f82-5687-49be-eaba-608ab3812e0c",
        "colab": {
          "base_uri": "https://localhost:8080/",
          "height": 54
        }
      },
      "source": [
        "MLA_compare[\"MLA Parameters\"][3]"
      ],
      "execution_count": 0,
      "outputs": [
        {
          "output_type": "execute_result",
          "data": {
            "text/plain": [
              "\"{'class_weight': None, 'criterion': 'gini', 'max_depth': None, 'max_features': None, 'max_leaf_nodes': None, 'min_impurity_decrease': 0.0, 'min_impurity_split': None, 'min_samples_leaf': 1, 'min_samples_split': 2, 'min_weight_fraction_leaf': 0.0, 'presort': False, 'random_state': 42, 'splitter': 'best'}\""
            ]
          },
          "metadata": {
            "tags": []
          },
          "execution_count": 28
        }
      ]
    },
    {
      "cell_type": "code",
      "metadata": {
        "id": "4mzmX6wlHGXk",
        "colab_type": "code",
        "colab": {}
      },
      "source": [
        "DTC_param_grid = {\n",
        "        'criterion': ['gini', 'entropy'],\n",
        "        'max_depth': [2, 4, 6, 8, 10, None],\n",
        "        'random_state': [42]\n",
        "    }"
      ],
      "execution_count": 0,
      "outputs": []
    },
    {
      "cell_type": "code",
      "metadata": {
        "id": "ePpAeG1EHJzg",
        "colab_type": "code",
        "outputId": "1dac0bb5-29fd-43f5-fa54-71cc1a2950fc",
        "colab": {
          "base_uri": "https://localhost:8080/",
          "height": 54
        }
      },
      "source": [
        "MLA_compare[\"MLA Parameters\"][0]"
      ],
      "execution_count": 0,
      "outputs": [
        {
          "output_type": "execute_result",
          "data": {
            "text/plain": [
              "\"{'bootstrap': True, 'class_weight': None, 'criterion': 'gini', 'max_depth': None, 'max_features': 'auto', 'max_leaf_nodes': None, 'min_impurity_decrease': 0.0, 'min_impurity_split': None, 'min_samples_leaf': 1, 'min_samples_split': 2, 'min_weight_fraction_leaf': 0.0, 'n_estimators': 'warn', 'n_jobs': None, 'oob_score': False, 'random_state': 42, 'verbose': 0, 'warm_start': False}\""
            ]
          },
          "metadata": {
            "tags": []
          },
          "execution_count": 30
        }
      ]
    },
    {
      "cell_type": "code",
      "metadata": {
        "id": "0o4u39fDIMeH",
        "colab_type": "code",
        "colab": {}
      },
      "source": [
        "RFC_param_grid = {\n",
        "        'n_estimators': [10, 50, 100, 300],\n",
        "        'criterion': ['gini', 'entropy'],\n",
        "        'max_depth': [2, 4, 6, 8, 10, None],\n",
        "        'oob_score': [True],\n",
        "        'random_state': [42],\n",
        "    }"
      ],
      "execution_count": 0,
      "outputs": []
    },
    {
      "cell_type": "code",
      "metadata": {
        "id": "Yb9IV77EIOYm",
        "colab_type": "code",
        "outputId": "ca8186a9-5e64-444b-e8f5-fe5ba1311bfd",
        "colab": {
          "base_uri": "https://localhost:8080/",
          "height": 54
        }
      },
      "source": [
        "MLA_compare[\"MLA Parameters\"][5]"
      ],
      "execution_count": 0,
      "outputs": [
        {
          "output_type": "execute_result",
          "data": {
            "text/plain": [
              "\"{'base_score': 0.5, 'booster': 'gbtree', 'colsample_bylevel': 1, 'colsample_bytree': 1, 'gamma': 0, 'learning_rate': 0.1, 'max_delta_step': 0, 'max_depth': 3, 'min_child_weight': 1, 'missing': None, 'n_estimators': 100, 'n_jobs': 1, 'nthread': None, 'objective': 'binary:logistic', 'random_state': 42, 'reg_alpha': 0, 'reg_lambda': 1, 'scale_pos_weight': 1, 'seed': None, 'silent': True, 'subsample': 1}\""
            ]
          },
          "metadata": {
            "tags": []
          },
          "execution_count": 32
        }
      ]
    },
    {
      "cell_type": "code",
      "metadata": {
        "id": "-YsnZt7jISla",
        "colab_type": "code",
        "colab": {}
      },
      "source": [
        "XGBC_param_grid = {\n",
        "    'learning_rate': [.01, .03, .05, .1, .25], \n",
        "    'max_depth': [0, 2, 3, 4, 6, 8, 10], \n",
        "    'n_estimators': [10, 50, 100, 300],\n",
        "    'seed': [0, None],\n",
        "}"
      ],
      "execution_count": 0,
      "outputs": []
    },
    {
      "cell_type": "code",
      "metadata": {
        "id": "vF9OuiWbKGbn",
        "colab_type": "code",
        "outputId": "1c3a8118-98ab-4b11-eef2-9bfec87804ff",
        "colab": {
          "base_uri": "https://localhost:8080/",
          "height": 54
        }
      },
      "source": [
        "MLA_compare[\"MLA Parameters\"][2]"
      ],
      "execution_count": 0,
      "outputs": [
        {
          "output_type": "execute_result",
          "data": {
            "text/plain": [
              "\"{'algorithm': 'auto', 'leaf_size': 30, 'metric': 'minkowski', 'metric_params': None, 'n_jobs': None, 'n_neighbors': 5, 'p': 2, 'weights': 'uniform'}\""
            ]
          },
          "metadata": {
            "tags": []
          },
          "execution_count": 34
        }
      ]
    },
    {
      "cell_type": "code",
      "metadata": {
        "id": "uMke_Y2dIaPt",
        "colab_type": "code",
        "colab": {}
      },
      "source": [
        "KNC_param_grid = {\n",
        "        'n_neighbors': [1, 2, 3, 4, 5, 6, 7],\n",
        "        'weights': ['uniform', 'distance'],\n",
        "        'algorithm': ['auto', 'ball_tree', 'kd_tree', 'brute']\n",
        "    }"
      ],
      "execution_count": 0,
      "outputs": []
    },
    {
      "cell_type": "code",
      "metadata": {
        "id": "pEW2CGx9KJfS",
        "colab_type": "code",
        "colab": {}
      },
      "source": [
        "param_grid = [DTC_param_grid, RFC_param_grid, XGBC_param_grid, \n",
        "              KNC_param_grid,]"
      ],
      "execution_count": 0,
      "outputs": []
    },
    {
      "cell_type": "code",
      "metadata": {
        "id": "SY6RZKoDrQqt",
        "colab_type": "code",
        "outputId": "43a54915-bf62-4317-e696-79c28da7ac0e",
        "colab": {
          "base_uri": "https://localhost:8080/",
          "height": 272
        }
      },
      "source": [
        "param_grid"
      ],
      "execution_count": 0,
      "outputs": [
        {
          "output_type": "execute_result",
          "data": {
            "text/plain": [
              "[{'criterion': ['gini', 'entropy'],\n",
              "  'max_depth': [2, 4, 6, 8, 10, None],\n",
              "  'random_state': [42]},\n",
              " {'criterion': ['gini', 'entropy'],\n",
              "  'max_depth': [2, 4, 6, 8, 10, None],\n",
              "  'n_estimators': [10, 50, 100, 300],\n",
              "  'oob_score': [True],\n",
              "  'random_state': [42]},\n",
              " {'learning_rate': [0.01, 0.03, 0.05, 0.1, 0.25],\n",
              "  'max_depth': [0, 2, 3, 4, 6, 8, 10],\n",
              "  'n_estimators': [10, 50, 100, 300],\n",
              "  'seed': [0, None]},\n",
              " {'algorithm': ['auto', 'ball_tree', 'kd_tree', 'brute'],\n",
              "  'n_neighbors': [1, 2, 3, 4, 5, 6, 7],\n",
              "  'weights': ['uniform', 'distance']}]"
            ]
          },
          "metadata": {
            "tags": []
          },
          "execution_count": 41
        }
      ]
    },
    {
      "cell_type": "code",
      "metadata": {
        "id": "XuQgVWGLKRsC",
        "colab_type": "code",
        "outputId": "85828435-211b-461e-a89c-22fc2d056c43",
        "colab": {
          "base_uri": "https://localhost:8080/",
          "height": 411
        }
      },
      "source": [
        "from sklearn.model_selection import GridSearchCV\n",
        "\n",
        "# get the best parameters for Algorithms\n",
        "\n",
        "best_MLA = [DecisionTreeClassifier(random_state=42),\n",
        "            RandomForestClassifier(random_state=42),\n",
        "            XGBClassifier(random_state=42),\n",
        "            KNeighborsClassifier(),\n",
        "    ]\n",
        "best_MLA_columns = ['MLA Name', 'MLA Best Parameters', \n",
        "                    'MLA Train Accuracy', 'MLA Val Accuracy']\n",
        "best_MLA_compare = pd.DataFrame(columns=best_MLA_columns)\n",
        "\n",
        "final_models = {}\n",
        "\n",
        "for best_idx, best_alg in enumerate(best_MLA):\n",
        "    \n",
        "    MLA_name = best_alg.__class__.__name__\n",
        "    best_MLA_compare.loc[best_idx, \"MLA Name\"] = MLA_name\n",
        "    \n",
        "    grid_search = GridSearchCV(best_alg, param_grid[best_idx], \n",
        "                               cv=10, scoring='accuracy')\n",
        "    grid_search.fit(X_train_prepared, y_strat_train)\n",
        "    best_MLA_compare.loc[best_idx, \"MLA Best Parameters\"] = \\\n",
        "        str(grid_search.best_params_)\n",
        "    best_MLA_compare.loc[best_idx, \"MLA Train Accuracy\"] = \\\n",
        "        grid_search.best_estimator_.score(X_train_prepared, \n",
        "                                          y_strat_train)\n",
        "\n",
        "    final_models['fm_'+MLA_name] = grid_search.best_estimator_\n",
        "    \n",
        "    grid_search.fit(X_val_prepared, y_strat_val)\n",
        "    best_MLA_compare.loc[best_idx, \"MLA Val Accuracy\"] = \\\n",
        "        grid_search.best_estimator_.score(X_val_prepared, \n",
        "                                          y_strat_val)\n",
        "    \n",
        "\n",
        "    print(MLA_name, '\\t', best_idx, grid_search.best_estimator_, '\\n'*3)\n",
        "\n",
        "best_MLA_compare.sort_values(by=['MLA Val Accuracy'], \n",
        "                             ascending=False, inplace=True)\n",
        "best_MLA_compare"
      ],
      "execution_count": 0,
      "outputs": [
        {
          "output_type": "stream",
          "text": [
            "/usr/local/lib/python3.6/dist-packages/sklearn/model_selection/_search.py:841: DeprecationWarning: The default of the `iid` parameter will change from True to False in version 0.22 and will be removed in 0.24. This will change numeric results when test-set sizes are unequal.\n",
            "  DeprecationWarning)\n"
          ],
          "name": "stderr"
        },
        {
          "output_type": "stream",
          "text": [
            "DecisionTreeClassifier \t 0 DecisionTreeClassifier(class_weight=None, criterion='entropy', max_depth=2,\n",
            "            max_features=None, max_leaf_nodes=None,\n",
            "            min_impurity_decrease=0.0, min_impurity_split=None,\n",
            "            min_samples_leaf=1, min_samples_split=2,\n",
            "            min_weight_fraction_leaf=0.0, presort=False, random_state=42,\n",
            "            splitter='best') \n",
            "\n",
            "\n",
            "\n"
          ],
          "name": "stdout"
        },
        {
          "output_type": "stream",
          "text": [
            "/usr/local/lib/python3.6/dist-packages/sklearn/model_selection/_search.py:841: DeprecationWarning: The default of the `iid` parameter will change from True to False in version 0.22 and will be removed in 0.24. This will change numeric results when test-set sizes are unequal.\n",
            "  DeprecationWarning)\n"
          ],
          "name": "stderr"
        },
        {
          "output_type": "stream",
          "text": [
            "RandomForestClassifier \t 1 RandomForestClassifier(bootstrap=True, class_weight=None, criterion='gini',\n",
            "            max_depth=None, max_features='auto', max_leaf_nodes=None,\n",
            "            min_impurity_decrease=0.0, min_impurity_split=None,\n",
            "            min_samples_leaf=1, min_samples_split=2,\n",
            "            min_weight_fraction_leaf=0.0, n_estimators=50, n_jobs=None,\n",
            "            oob_score=True, random_state=42, verbose=0, warm_start=False) \n",
            "\n",
            "\n",
            "\n"
          ],
          "name": "stdout"
        }
      ]
    }
  ]
}